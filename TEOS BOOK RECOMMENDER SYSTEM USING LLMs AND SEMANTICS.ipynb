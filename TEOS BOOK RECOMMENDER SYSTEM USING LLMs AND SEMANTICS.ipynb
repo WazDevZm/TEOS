{
 "cells": [
  {
   "cell_type": "markdown",
   "id": "3279953e",
   "metadata": {},
   "source": [
    "WELCOME TO THE MY FIRST MACHINE LEARNING PROJECT OF 2025"
   ]
  },
  {
   "cell_type": "code",
   "execution_count": 1,
   "id": "d2c4960f-95d5-400e-a4ad-9abaf2acb587",
   "metadata": {},
   "outputs": [
    {
     "name": "stdout",
     "output_type": "stream",
     "text": [
      "Requirement already satisfied: numpy in c:\\users\\wazingwa\\appdata\\local\\programs\\python\\python312\\lib\\site-packages (1.26.3)\n",
      "Note: you may need to restart the kernel to use updated packages.\n"
     ]
    },
    {
     "name": "stderr",
     "output_type": "stream",
     "text": [
      "\n",
      "[notice] A new release of pip is available: 24.3.1 -> 25.0\n",
      "[notice] To update, run: python.exe -m pip install --upgrade pip\n"
     ]
    }
   ],
   "source": [
    "pip install numpy"
   ]
  },
  {
   "cell_type": "code",
   "execution_count": 2,
   "id": "f1c7758b",
   "metadata": {},
   "outputs": [
    {
     "name": "stdout",
     "output_type": "stream",
     "text": [
      "Book Recommnder Systemusing LLMs and Semantics\n"
     ]
    }
   ],
   "source": [
    "print(\"Book Recommender System using LLMs and Semantics\")"
   ]
  }
 ],
 "metadata": {
  "kernelspec": {
   "display_name": "Python 3",
   "language": "python",
   "name": "python3"
  },
  "language_info": {
   "codemirror_mode": {
    "name": "ipython",
    "version": 3
   },
   "file_extension": ".py",
   "mimetype": "text/x-python",
   "name": "python",
   "nbconvert_exporter": "python",
   "pygments_lexer": "ipython3",
   "version": "3.12.6"
  }
 },
 "nbformat": 4,
 "nbformat_minor": 5
}
